{
 "cells": [
  {
   "cell_type": "code",
   "execution_count": 54,
   "metadata": {},
   "outputs": [],
   "source": [
    "import pandas as pd\n",
    "import xarray as xr\n",
    "import numpy as np\n",
    "from scipy.interpolate import griddata"
   ]
  },
  {
   "cell_type": "code",
   "execution_count": 55,
   "metadata": {},
   "outputs": [],
   "source": [
    "ks = xr.open_dataset(\"./kc_raster_final/kc_2015-2019.nc\")\n",
    "df = pd.read_csv('./ET_data/ET_o Estimate PJS.csv', index_col=[0], parse_dates=True)"
   ]
  },
  {
   "cell_type": "code",
   "execution_count": 59,
   "metadata": {},
   "outputs": [],
   "source": [
    "ET_array=ks.copy()\n",
    "ET_array=ET_array.resample(time='1M').nearest(tolerance=\"1Y\")"
   ]
  },
  {
   "cell_type": "code",
   "execution_count": 60,
   "metadata": {},
   "outputs": [],
   "source": [
    "xv, yv = np.meshgrid(ks['lon'].values, ks['lat'].values)"
   ]
  },
  {
   "cell_type": "code",
   "execution_count": 61,
   "metadata": {},
   "outputs": [],
   "source": [
    "ET_array.kc[:,:,:]=np.nan   #reference data cube for ET\n",
    "for i in range(len(ET_array.time)):\n",
    "    month=str(ET_array.time.values[i])[:7]\n",
    "    #month = '2015-01' # Needs to be run for each month!\n",
    "    data = df[month]\n",
    "    data = data[data['ETo'].notna()]\n",
    "    points = (data['lon'].values, data['lat'].values)\n",
    "    ETo = data['ETo'].values\n",
    "    result=griddata(points, ETo, (xv,yv), method='nearest')\n",
    "    ET_array.kc[i,:,:]=result[:,:]"
   ]
  },
  {
   "cell_type": "code",
   "execution_count": 62,
   "metadata": {},
   "outputs": [],
   "source": [
    "result=griddata(points, ETo, (xv,yv), method='nearest')"
   ]
  },
  {
   "cell_type": "code",
   "execution_count": 63,
   "metadata": {},
   "outputs": [
    {
     "data": {
      "text/plain": [
       "<matplotlib.collections.QuadMesh at 0x7fc402fb2670>"
      ]
     },
     "execution_count": 63,
     "metadata": {},
     "output_type": "execute_result"
    },
    {
     "data": {
      "image/png": "[encoded data removed]",
      "text/plain": [
       "<Figure size 432x288 with 2 Axes>"
      ]
     },
     "metadata": {
      "needs_background": "light"
     },
     "output_type": "display_data"
    }
   ],
   "source": [
    "%matplotlib inline\n",
    "ET_array.kc[0,:,:].plot()"
   ]
  }
 ],
 "metadata": {
  "kernelspec": {
   "display_name": "whw",
   "language": "python",
   "name": "whw"
  },
  "language_info": {
   "codemirror_mode": {
    "name": "ipython",
    "version": 3
   },
   "file_extension": ".py",
   "mimetype": "text/x-python",
   "name": "python",
   "nbconvert_exporter": "python",
   "pygments_lexer": "ipython3",
   "version": "3.8.5"
  }
 },
 "nbformat": 4,
 "nbformat_minor": 4
}
